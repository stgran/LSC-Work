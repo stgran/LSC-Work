{
 "metadata": {
  "language_info": {
   "codemirror_mode": {
    "name": "ipython",
    "version": 3
   },
   "file_extension": ".py",
   "mimetype": "text/x-python",
   "name": "python",
   "nbconvert_exporter": "python",
   "pygments_lexer": "ipython3",
   "version": "3.9.2"
  },
  "orig_nbformat": 2,
  "kernelspec": {
   "name": "python39264bit0a464168636e4d4f970288c7f023cc50",
   "display_name": "Python 3.9.2 64-bit",
   "language": "python"
  }
 },
 "nbformat": 4,
 "nbformat_minor": 2,
 "cells": [
  {
   "cell_type": "code",
   "execution_count": 2,
   "metadata": {},
   "outputs": [],
   "source": [
    "import pandas as pd"
   ]
  },
  {
   "cell_type": "code",
   "execution_count": 13,
   "metadata": {},
   "outputs": [
    {
     "output_type": "execute_result",
     "data": {
      "text/plain": [
       "     county            JP_court case_type            date_range  \\\n",
       "0  Anderson  Precinct 1 Place 1     Civil  9/1/2014 - 8/31/2015   \n",
       "1  Anderson  Precinct 2 Place 1     Civil  9/1/2014 - 8/31/2015   \n",
       "2  Anderson  Precinct 3 Place 1     Civil  9/1/2014 - 8/31/2015   \n",
       "3  Anderson  Precinct 4 Place 1     Civil  9/1/2014 - 8/31/2015   \n",
       "4   Andrews          Precinct 1     Civil  9/1/2014 - 8/31/2015   \n",
       "\n",
       "   num_reports_submitted active_pending_start_date reactivated  added  \\\n",
       "0                     12                        86           0  129.0   \n",
       "1                     12                        26           0  111.0   \n",
       "2                     12                       221           0   91.0   \n",
       "3                     12                        30           0  124.0   \n",
       "4                     12                        84           0   46.0   \n",
       "\n",
       "  disposed placed_on_inactive_status active_pending_end_date  \\\n",
       "0      129                         0                      90   \n",
       "1      101                         0                      35   \n",
       "2       57                         0                     233   \n",
       "3      104                         1                      50   \n",
       "4       50                         0                      83   \n",
       "\n",
       "                           source  \n",
       "0  AOC Statistical Report, FY2015  \n",
       "1  AOC Statistical Report, FY2015  \n",
       "2  AOC Statistical Report, FY2015  \n",
       "3  AOC Statistical Report, FY2015  \n",
       "4  AOC Statistical Report, FY2015  "
      ],
      "text/html": "<div>\n<style scoped>\n    .dataframe tbody tr th:only-of-type {\n        vertical-align: middle;\n    }\n\n    .dataframe tbody tr th {\n        vertical-align: top;\n    }\n\n    .dataframe thead th {\n        text-align: right;\n    }\n</style>\n<table border=\"1\" class=\"dataframe\">\n  <thead>\n    <tr style=\"text-align: right;\">\n      <th></th>\n      <th>county</th>\n      <th>JP_court</th>\n      <th>case_type</th>\n      <th>date_range</th>\n      <th>num_reports_submitted</th>\n      <th>active_pending_start_date</th>\n      <th>reactivated</th>\n      <th>added</th>\n      <th>disposed</th>\n      <th>placed_on_inactive_status</th>\n      <th>active_pending_end_date</th>\n      <th>source</th>\n    </tr>\n  </thead>\n  <tbody>\n    <tr>\n      <th>0</th>\n      <td>Anderson</td>\n      <td>Precinct 1 Place 1</td>\n      <td>Civil</td>\n      <td>9/1/2014 - 8/31/2015</td>\n      <td>12</td>\n      <td>86</td>\n      <td>0</td>\n      <td>129.0</td>\n      <td>129</td>\n      <td>0</td>\n      <td>90</td>\n      <td>AOC Statistical Report, FY2015</td>\n    </tr>\n    <tr>\n      <th>1</th>\n      <td>Anderson</td>\n      <td>Precinct 2 Place 1</td>\n      <td>Civil</td>\n      <td>9/1/2014 - 8/31/2015</td>\n      <td>12</td>\n      <td>26</td>\n      <td>0</td>\n      <td>111.0</td>\n      <td>101</td>\n      <td>0</td>\n      <td>35</td>\n      <td>AOC Statistical Report, FY2015</td>\n    </tr>\n    <tr>\n      <th>2</th>\n      <td>Anderson</td>\n      <td>Precinct 3 Place 1</td>\n      <td>Civil</td>\n      <td>9/1/2014 - 8/31/2015</td>\n      <td>12</td>\n      <td>221</td>\n      <td>0</td>\n      <td>91.0</td>\n      <td>57</td>\n      <td>0</td>\n      <td>233</td>\n      <td>AOC Statistical Report, FY2015</td>\n    </tr>\n    <tr>\n      <th>3</th>\n      <td>Anderson</td>\n      <td>Precinct 4 Place 1</td>\n      <td>Civil</td>\n      <td>9/1/2014 - 8/31/2015</td>\n      <td>12</td>\n      <td>30</td>\n      <td>0</td>\n      <td>124.0</td>\n      <td>104</td>\n      <td>1</td>\n      <td>50</td>\n      <td>AOC Statistical Report, FY2015</td>\n    </tr>\n    <tr>\n      <th>4</th>\n      <td>Andrews</td>\n      <td>Precinct 1</td>\n      <td>Civil</td>\n      <td>9/1/2014 - 8/31/2015</td>\n      <td>12</td>\n      <td>84</td>\n      <td>0</td>\n      <td>46.0</td>\n      <td>50</td>\n      <td>0</td>\n      <td>83</td>\n      <td>AOC Statistical Report, FY2015</td>\n    </tr>\n  </tbody>\n</table>\n</div>"
     },
     "metadata": {},
     "execution_count": 13
    }
   ],
   "source": [
    "data = pd.read_csv('data/texas_jp_aoc_reports.csv')\n",
    "data['added'] = (\n",
    "    pd.to_numeric(\n",
    "        data['added'],\n",
    "        errors='coerce')\n",
    "    .fillna(0))\n",
    "data.head()"
   ]
  },
  {
   "cell_type": "code",
   "execution_count": 14,
   "metadata": {},
   "outputs": [
    {
     "output_type": "stream",
     "name": "stdout",
     "text": [
      "county                        object\nJP_court                      object\ncase_type                     object\ndate_range                    object\nnum_reports_submitted          int64\nactive_pending_start_date     object\nreactivated                   object\nadded                        float64\ndisposed                      object\nplaced_on_inactive_status     object\nactive_pending_end_date       object\nsource                        object\ndtype: object\n"
     ]
    }
   ],
   "source": [
    "print(data.dtypes)"
   ]
  },
  {
   "source": [
    "# The Plan\n",
    "We have been focusing on nine Texas counties:\n",
    "- El Paso\n",
    "- Travis\n",
    "- Harris\n",
    "- Tarrant\n",
    "- Denton\n",
    "- Williamson\n",
    "- Nueces\n",
    "- Fort Bend\n",
    "- Smith\n",
    "\n",
    "For each county, for each year from 2016 to 2020, we want to sum up the numbers in the \"added\" column for each row for each county (each county is broken into different courts)."
   ],
   "cell_type": "markdown",
   "metadata": {}
  },
  {
   "cell_type": "code",
   "execution_count": 8,
   "metadata": {},
   "outputs": [
    {
     "output_type": "stream",
     "name": "stdout",
     "text": [
      "['9/1/2014 - 8/31/2015' '9/1/2015 - 8/31/2016' '9/1/2016 - 8/31/2017'\n '9/1/2017 - 8/31/2018' '9/1/2018 - 8/31/2019' '9/1/2019 - 8/31/2020']\n"
     ]
    }
   ],
   "source": [
    "counties = ['El Paso', 'Travis', 'Harris', 'Tarrant', 'Denton', 'Williamson', 'Nueces', 'Fort Bend', 'Smith']\n",
    "timeframes = data['date_range'].unique()\n",
    "print(timeframes)"
   ]
  },
  {
   "cell_type": "code",
   "execution_count": 21,
   "metadata": {},
   "outputs": [],
   "source": [
    "county_results = []\n",
    "timeframe_results = []\n",
    "added_results = []\n",
    "\n",
    "for county in counties:\n",
    "    for timeframe in timeframes:\n",
    "        subset = data.loc[(data['county'] == county) & (data['date_range'] == timeframe)]\n",
    "        added = subset['added'].sum()\n",
    "        county_results.append(county)\n",
    "        timeframe_results.append(timeframe)\n",
    "        added_results.append(added)\n",
    "\n",
    "results = pd.DataFrame(\n",
    "    list(zip(county_results, timeframe_results, added_results)),\n",
    "    columns = ['county', 'timeframe', 'civil_cases']\n",
    "    )"
   ]
  },
  {
   "cell_type": "code",
   "execution_count": 22,
   "metadata": {},
   "outputs": [
    {
     "output_type": "execute_result",
     "data": {
      "text/plain": [
       "    county             timeframe  civil_cases\n",
       "0  El Paso  9/1/2014 - 8/31/2015       7854.0\n",
       "1  El Paso  9/1/2015 - 8/31/2016       8898.0\n",
       "2  El Paso  9/1/2016 - 8/31/2017      11774.0\n",
       "3  El Paso  9/1/2017 - 8/31/2018      15351.0\n",
       "4  El Paso  9/1/2018 - 8/31/2019      19213.0"
      ],
      "text/html": "<div>\n<style scoped>\n    .dataframe tbody tr th:only-of-type {\n        vertical-align: middle;\n    }\n\n    .dataframe tbody tr th {\n        vertical-align: top;\n    }\n\n    .dataframe thead th {\n        text-align: right;\n    }\n</style>\n<table border=\"1\" class=\"dataframe\">\n  <thead>\n    <tr style=\"text-align: right;\">\n      <th></th>\n      <th>county</th>\n      <th>timeframe</th>\n      <th>civil_cases</th>\n    </tr>\n  </thead>\n  <tbody>\n    <tr>\n      <th>0</th>\n      <td>El Paso</td>\n      <td>9/1/2014 - 8/31/2015</td>\n      <td>7854.0</td>\n    </tr>\n    <tr>\n      <th>1</th>\n      <td>El Paso</td>\n      <td>9/1/2015 - 8/31/2016</td>\n      <td>8898.0</td>\n    </tr>\n    <tr>\n      <th>2</th>\n      <td>El Paso</td>\n      <td>9/1/2016 - 8/31/2017</td>\n      <td>11774.0</td>\n    </tr>\n    <tr>\n      <th>3</th>\n      <td>El Paso</td>\n      <td>9/1/2017 - 8/31/2018</td>\n      <td>15351.0</td>\n    </tr>\n    <tr>\n      <th>4</th>\n      <td>El Paso</td>\n      <td>9/1/2018 - 8/31/2019</td>\n      <td>19213.0</td>\n    </tr>\n  </tbody>\n</table>\n</div>"
     },
     "metadata": {},
     "execution_count": 22
    }
   ],
   "source": [
    "results.head()"
   ]
  },
  {
   "cell_type": "code",
   "execution_count": 23,
   "metadata": {},
   "outputs": [],
   "source": [
    "results.to_csv('data/texas_counties_aoc_counts.csv')"
   ]
  }
 ]
}