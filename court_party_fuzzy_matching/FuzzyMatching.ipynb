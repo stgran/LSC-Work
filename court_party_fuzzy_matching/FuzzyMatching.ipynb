{
 "cells": [
  {
   "cell_type": "markdown",
   "metadata": {},
   "source": [
    "# Fuzzy Matching of Legal Parties\n",
    "This script is designed to remove duplicate parties from court data.  \n",
    "Many times, the same party is included in court records multiple times with slightly different names due to a certain term being entered differently or abbreviated or simply due to a typo.  \n",
    "When trying to aggregate court records by party, these slight variations in party name for the same party can make aggregation extremely difficult.  \n",
    "This code uses a combination of text preprocessing, simple regular expression methods, and fuzzy matching to identify and group parties that the code believes to be the same, despite variations in the party name."
   ]
  },
  {
   "cell_type": "code",
   "execution_count": 51,
   "metadata": {},
   "outputs": [],
   "source": [
    "import pandas as pd\n",
    "from difflib import SequenceMatcher\n",
    "import time\n",
    "from fuzzywuzzy import fuzz"
   ]
  },
  {
   "cell_type": "code",
   "execution_count": 86,
   "metadata": {},
   "outputs": [],
   "source": [
    "abbreviations = {'apartment': 'apt',\n",
    "                 'apartments': 'apt',\n",
    "                 'company': 'co',\n",
    "                 'furniture': 'fur',\n",
    "                 'credit': 'cr',\n",
    "                 'management': 'mgt',\n",
    "                 'financial': 'fin',\n",
    "                 'services': 'svc',\n",
    "                 'acceptance': 'acc',\n",
    "                 'corporation': 'corp',\n",
    "                 'property': 'prop',\n",
    "                 'recovery': 'rec',\n",
    "                 'holdings': 'hld',\n",
    "                 'bonding': 'bnd',\n",
    "                 'collection': 'col',\n",
    "                 'rental': 'rtl',\n",
    "                 'rentals': 'rtl',\n",
    "                 'homes': 'hms',\n",
    "                 'group': 'grp',\n",
    "                 'service': 'svc',\n",
    "                 'realty': 'rlt',\n",
    "                 'bank': 'bk',\n",
    "                 'properties': 'prop',\n",
    "                 'capital': 'cap',\n",
    "                 'place': 'pl',\n",
    "                 'manor': 'mn',\n",
    "                 'insurance': 'ins',\n",
    "                 'acquisitions': 'acq',\n",
    "                 'union': 'un'\n",
    "                }\n",
    "\n",
    "stopwords = ['llc', 'inc', 'pllc']"
   ]
  },
  {
   "cell_type": "code",
   "execution_count": 94,
   "metadata": {},
   "outputs": [],
   "source": [
    "class RemoveRepetitiveNames():\n",
    "    '''\n",
    "    This class is designed to remove repetitive instances of the same party from court data.\n",
    "    It does this by first preprocessing the party names, including removing punctuation and optionally numbers,\n",
    "    making all names lowercase, and optionally removing stopwords and abbreviating common terms.\n",
    "    Second, it matches identical duplicates.\n",
    "    Third, it uses fuzzy matching to estimate if similar party names are the same party.\n",
    "    Repeated parties are then combined into the same party.\n",
    "    '''\n",
    "    \n",
    "    def __init__(self, filename, abbreviations=None, stopwords=None, size=10000, algorithm='seq', remove_numbers=True):\n",
    "        '''\n",
    "        Parameters:\n",
    "        - filename: the filename and path of the data file.\n",
    "        - abbreviations (default None): if the user wants common terms abbreviated, this should be a dict of those abbreviations.\n",
    "        - stopwords (default None): if the user wants stopwords removed, this should be a list of those stopwords.\n",
    "        - size (default 10000): only the first 10000 rows are operated on at the moment.\n",
    "        - algorithm (default 'seq'): two algorithms for fuzzy matching are available:\n",
    "            - Ratcliff/Obershelp ('seq'): Computes the doubled number of matching characters divided by the total number\n",
    "                                          of characters in the two strings\n",
    "            - Levenshtein ('levenshtein'): Computes the minimum number of edits needed to transform one string into the other\n",
    "        - remove_numbers (default True): if True, removes the numbers from party_name.\n",
    "        \n",
    "        Steps:\n",
    "        First, we import our data using the provided filename. We then select the first 10000 (based on 'size') rows.\n",
    "        \n",
    "        Next, we preprocess our data by adding a new column that is the same as the party_name column\n",
    "        but with no punctuation or numbers and all lowercase.\n",
    "        \n",
    "        \n",
    "        '''\n",
    "        loaded_data = pd.read_csv(filename)\n",
    "        self.abbreviations = abbreviations\n",
    "        self.stopwords = stopwords\n",
    "        self.algorithm = algorithm\n",
    "        self.remove_numbers = remove_numbers\n",
    "        \n",
    "        # TIME CHECK MODULE\n",
    "        start_time = time.time()\n",
    "        print('timer started')\n",
    "        \n",
    "        self.data = loaded_data[:size]\n",
    "        \n",
    "        # remove punctuation and optionally numbers\n",
    "        self.data = self.remove_punc_num(self.data)\n",
    "        \n",
    "        # make sure all whitespace is only one space\n",
    "        self.data.party_name = self.data.party_name.replace('\\s+', ' ', regex=True)\n",
    "        \n",
    "        # lowercase all party names\n",
    "        self.data['party_name'] = self.data['party_name'].str.lower()\n",
    "        \n",
    "        # optionally remove stopwords like llc, inc, and pllc\n",
    "        if self.stopwords:\n",
    "            self.data['party_name'] = self.data['party_name'].apply(lambda x: self.remove_stopwords(x))\n",
    "        \n",
    "        # optionally abbreviate common long terms like apartments, company, corporation, etc.\n",
    "        if self.abbreviations:\n",
    "            self.data['party_name'] = self.data['party_name'].apply(lambda x: self.abbreviate(x))\n",
    "        \n",
    "        # combine and then drop duplicates\n",
    "        self.data['party_count'] = self.data.groupby(['party_name'])['party_count'].transform('sum')\n",
    "        self.data.drop_duplicates(subset=['party_name'], inplace=True)\n",
    "        \n",
    "        # record how many identical party_names were identified, combined, and removed\n",
    "        new_size, _ = self.data.shape\n",
    "        self.dropped_duplicates_count = size - new_size\n",
    "        \n",
    "        # TIME CHECK MODULE\n",
    "        first_interval = time.time()\n",
    "        print('first interval: ', first_interval - start_time)\n",
    "        \n",
    "        position = []\n",
    "        \n",
    "        for index, row in self.data.iterrows():\n",
    "            word_length = len(row['party_name'])\n",
    "            \n",
    "            word_sum = self.sum_string(row['party_name'])\n",
    "            \n",
    "            word_position = word_sum + word_length*33\n",
    "            # 33 is the scalar factor between the length and the sum of letters based on a simple regression of the shelby data\n",
    "            position.append(word_position)\n",
    "        \n",
    "        self.data['position'] = position\n",
    "        \n",
    "        # TIME CHECK MODULE\n",
    "        second_interval = time.time()\n",
    "        print('second interval: ', second_interval - first_interval)\n",
    "        \n",
    "        party_names = []\n",
    "        aliases = []\n",
    "        party_types = []\n",
    "        addresses = []\n",
    "        case_types = []\n",
    "        years = []\n",
    "        party_counts = []\n",
    "        \n",
    "        removed = []\n",
    "        \n",
    "        # TIME CHECK MODULE\n",
    "        print('for loop starting')\n",
    "        count = 0\n",
    "        interval = time.time()\n",
    "        self.fuzzy_match_count = 0\n",
    "        \n",
    "        for index, row in self.data.iterrows():\n",
    "            # TIME CHECK MODULE\n",
    "            count += 1\n",
    "            if count%1000 == 0:\n",
    "                print('finished thousand rows: ', time.time() - interval)\n",
    "                interval = time.time()\n",
    "            if index not in removed:\n",
    "                removed.append(index)\n",
    "                \n",
    "                position_lower = row['position'] * .8\n",
    "                position_upper = row['position'] * 1.2\n",
    "                test_set = self.data[(self.data['position']<=position_upper) & (self.data['position']>=position_lower)]\n",
    "                party_names.append(row['party_name'])\n",
    "                party_aliases = []\n",
    "                party_party_types = [row['party_type']]\n",
    "                party_addresses = [row['party_address']]\n",
    "                party_case_types = [row['case_type']]\n",
    "                party_years = [row['year']]\n",
    "                party_party_counts = row['party_count']\n",
    "\n",
    "                for index_2, row_2 in test_set.iterrows():\n",
    "                    if index_2 not in removed:\n",
    "                        if self.algorithm == 'seq':\n",
    "                            score = self.seq(row['party_name'], row_2['party_name'])\n",
    "                        elif self.algorithm == 'levenshtein':\n",
    "                            score = self.levenshtein(row['party_name'], row_2['party_name'])/100\n",
    "                        else:\n",
    "                            score = self.seq(row['party_name'], row_2['party_name'])\n",
    "                        if score >= .8:\n",
    "                            self.fuzzy_match_count += 1\n",
    "                            removed.append(index_2)\n",
    "                            if row_2['party_name'] not in party_aliases:\n",
    "                                party_aliases.append(row_2['party_name'])\n",
    "                            if row_2['party_type'] not in party_party_types:\n",
    "                                party_party_types.append(row_2['party_type'])\n",
    "                            if row_2['party_address'] not in party_addresses:\n",
    "                                party_addresses.append(row_2['party_address'])\n",
    "                            if row_2['case_type'] not in party_case_types:\n",
    "                                party_case_types.append(row_2['case_type'])\n",
    "                            if row_2['year'] not in party_years:\n",
    "                                party_years.append(row_2['year'])\n",
    "                            party_party_counts += row_2['party_count']\n",
    "\n",
    "                aliases.append(party_aliases)\n",
    "                party_types.append(party_party_types)\n",
    "                addresses.append(party_addresses)\n",
    "                case_types.append(party_case_types)\n",
    "                years.append(party_years)\n",
    "                party_counts.append(party_party_counts)\n",
    "        \n",
    "        # TIME CHECK MODULE\n",
    "        end_interval = time.time()\n",
    "        print('finished main function: ', end_interval - start_time)\n",
    "        print('number of matches: ', self.fuzzy_match_count)\n",
    "        self.output_df = pd.DataFrame(list(zip(party_names, aliases, party_types, addresses, case_types, years, party_counts)), columns = ['party_name', 'aliases', 'party_types', 'addresses', 'case_types', 'years', 'party_count'])\n",
    "    \n",
    "    def remove_punc_num(self, df):\n",
    "        '''\n",
    "        This code was taken from https://stackoverflow.com/questions/50444346/fast-punctuation-removal-with-pandas\n",
    "        It removes punctuation and optionally numbers.\n",
    "        '''\n",
    "        if self.remove_numbers == True: # numbers are included in the text to be removed.\n",
    "            punct = '1234567890!\"#$%&\\'()*+,-./:;<=>?@[\\\\]^_`{}~'\n",
    "        else: # only punctuation is included in the text to be removed.\n",
    "            punct = '!\"#$%&\\'()*+,-./:;<=>?@[\\\\]^_`{}~'\n",
    "        \n",
    "        transtab = str.maketrans(dict.fromkeys(punct, ''))\n",
    "\n",
    "        df['party_name'] = '|'.join(df['party_name'].tolist()).translate(transtab).split('|')\n",
    "        \n",
    "        return df\n",
    "    \n",
    "    def remove_stopwords(self, party_name):\n",
    "        '''\n",
    "        This method removes common stopwords such as llc, pllc, and inc.\n",
    "        Removing these stopwords increases the number of duplicate party names and can also improve fuzzy matching.\n",
    "        '''\n",
    "        items = party_name.split(' ')\n",
    "        \n",
    "        new_party_name_list = []\n",
    "        \n",
    "        for item in items:\n",
    "            if item not in stopwords:\n",
    "                new_party_name_list.append(item)\n",
    "        \n",
    "        delimiter = ' '\n",
    "        new_party_name = delimiter.join(new_party_name_list)\n",
    "        \n",
    "        return new_party_name\n",
    "    \n",
    "    def abbreviate(self, party_name):\n",
    "        '''\n",
    "        This method abbreviates common terms such as apartments, corporation, company, etc.\n",
    "        By abbreviating these large terms, false positive are reduced because terms that might\n",
    "        be shared by two unrelated parties carry less weight.\n",
    "        '''\n",
    "        items = party_name.split(' ')\n",
    "        \n",
    "        new_party_name_list = []\n",
    "        \n",
    "        for item in items:\n",
    "            if item in self.abbreviations:\n",
    "                new_party_name_list.append(self.abbreviations[item])\n",
    "            else:\n",
    "                new_party_name_list.append(item)\n",
    "        \n",
    "        delimiter = ' '\n",
    "        new_party_name = delimiter.join(new_party_name_list)\n",
    "        \n",
    "        return new_party_name\n",
    "        \n",
    "    def sum_string(self, string):\n",
    "        '''\n",
    "        Converts letters to numbers (a=1, b=2, etc.) and returns the sum of all letters in a string.\n",
    "        '''\n",
    "        return sum(ord(c) - 64 for c in string)\n",
    "    \n",
    "    def seq(self, a, b):\n",
    "        '''\n",
    "        Returns similarity ratio for two party names using the Ratcliff/Obershelp algorithm.\n",
    "        '''\n",
    "        return SequenceMatcher(None, a, b).ratio()\n",
    "    \n",
    "    def levenshtein(self, a, b):\n",
    "        '''\n",
    "        Returns similarity ratio for two party names using the Levenshtein algorithm.\n",
    "        '''\n",
    "        return fuzz.ratio(a, b)"
   ]
  },
  {
   "cell_type": "code",
   "execution_count": 95,
   "metadata": {},
   "outputs": [
    {
     "name": "stdout",
     "output_type": "stream",
     "text": [
      "timer started\n",
      "first interval:  0.10836482048034668\n"
     ]
    },
    {
     "name": "stderr",
     "output_type": "stream",
     "text": [
      "<ipython-input-94-65ba2fd93e6e>:173: SettingWithCopyWarning: \n",
      "A value is trying to be set on a copy of a slice from a DataFrame.\n",
      "Try using .loc[row_indexer,col_indexer] = value instead\n",
      "\n",
      "See the caveats in the documentation: https://pandas.pydata.org/pandas-docs/stable/user_guide/indexing.html#returning-a-view-versus-a-copy\n",
      "  df['party_name'] = '|'.join(df['party_name'].tolist()).translate(transtab).split('|')\n",
      "<ipython-input-94-65ba2fd93e6e>:51: SettingWithCopyWarning: \n",
      "A value is trying to be set on a copy of a slice from a DataFrame.\n",
      "Try using .loc[row_indexer,col_indexer] = value instead\n",
      "\n",
      "See the caveats in the documentation: https://pandas.pydata.org/pandas-docs/stable/user_guide/indexing.html#returning-a-view-versus-a-copy\n",
      "  self.data['party_name'] = self.data['party_name'].str.lower()\n",
      "<ipython-input-94-65ba2fd93e6e>:55: SettingWithCopyWarning: \n",
      "A value is trying to be set on a copy of a slice from a DataFrame.\n",
      "Try using .loc[row_indexer,col_indexer] = value instead\n",
      "\n",
      "See the caveats in the documentation: https://pandas.pydata.org/pandas-docs/stable/user_guide/indexing.html#returning-a-view-versus-a-copy\n",
      "  self.data['party_name'] = self.data['party_name'].apply(lambda x: self.remove_stopwords(x))\n",
      "<ipython-input-94-65ba2fd93e6e>:59: SettingWithCopyWarning: \n",
      "A value is trying to be set on a copy of a slice from a DataFrame.\n",
      "Try using .loc[row_indexer,col_indexer] = value instead\n",
      "\n",
      "See the caveats in the documentation: https://pandas.pydata.org/pandas-docs/stable/user_guide/indexing.html#returning-a-view-versus-a-copy\n",
      "  self.data['party_name'] = self.data['party_name'].apply(lambda x: self.abbreviate(x))\n",
      "<ipython-input-94-65ba2fd93e6e>:62: SettingWithCopyWarning: \n",
      "A value is trying to be set on a copy of a slice from a DataFrame.\n",
      "Try using .loc[row_indexer,col_indexer] = value instead\n",
      "\n",
      "See the caveats in the documentation: https://pandas.pydata.org/pandas-docs/stable/user_guide/indexing.html#returning-a-view-versus-a-copy\n",
      "  self.data['party_count'] = self.data.groupby(['party_name'])['party_count'].transform('sum')\n",
      "<ipython-input-94-65ba2fd93e6e>:63: SettingWithCopyWarning: \n",
      "A value is trying to be set on a copy of a slice from a DataFrame\n",
      "\n",
      "See the caveats in the documentation: https://pandas.pydata.org/pandas-docs/stable/user_guide/indexing.html#returning-a-view-versus-a-copy\n",
      "  self.data.drop_duplicates(subset=['party_name'], inplace=True)\n",
      "<ipython-input-94-65ba2fd93e6e>:84: SettingWithCopyWarning: \n",
      "A value is trying to be set on a copy of a slice from a DataFrame.\n",
      "Try using .loc[row_indexer,col_indexer] = value instead\n",
      "\n",
      "See the caveats in the documentation: https://pandas.pydata.org/pandas-docs/stable/user_guide/indexing.html#returning-a-view-versus-a-copy\n",
      "  self.data['position'] = position\n"
     ]
    },
    {
     "name": "stdout",
     "output_type": "stream",
     "text": [
      "second interval:  0.32294702529907227\n",
      "for loop starting\n",
      "finished thousand rows:  74.2469322681427\n",
      "finished thousand rows:  57.99314308166504\n",
      "finished main function:  188.86090087890625\n",
      "number of matches:  633\n"
     ]
    }
   ],
   "source": [
    "'''\n",
    "Test A\n",
    "Parameters:\n",
    "filename = 'Downloads/2020-11-01_tn_shelby_party_counts.csv'\n",
    "size = 10000\n",
    "abbreviations = abbreviations\n",
    "stopwords = stopwords\n",
    "algorithm = 'levenshtein'\n",
    "remove_numbers = True\n",
    "'''\n",
    "\n",
    "test_a = RemoveRepetitiveNames(filename='Downloads/2020-11-01_tn_shelby_party_counts.csv', abbreviations=abbreviations, stopwords = stopwords, size=10000, algorithm='levenshtein', remove_numbers=True)"
   ]
  },
  {
   "cell_type": "code",
   "execution_count": 97,
   "metadata": {},
   "outputs": [
    {
     "name": "stdout",
     "output_type": "stream",
     "text": [
      "(2279, 7)\n",
      "7088\n"
     ]
    }
   ],
   "source": [
    "print(test_a.output_df.shape)\n",
    "print(test_a.dropped_duplicates_count)\n",
    "\n",
    "test_a.output_df.to_csv('Downloads/LSC Work/Fuzzy Matching Project/test_112320/test_a_results.csv')"
   ]
  },
  {
   "cell_type": "code",
   "execution_count": 98,
   "metadata": {},
   "outputs": [
    {
     "name": "stdout",
     "output_type": "stream",
     "text": [
      "timer started\n",
      "first interval:  0.10889983177185059\n"
     ]
    },
    {
     "name": "stderr",
     "output_type": "stream",
     "text": [
      "<ipython-input-94-65ba2fd93e6e>:173: SettingWithCopyWarning: \n",
      "A value is trying to be set on a copy of a slice from a DataFrame.\n",
      "Try using .loc[row_indexer,col_indexer] = value instead\n",
      "\n",
      "See the caveats in the documentation: https://pandas.pydata.org/pandas-docs/stable/user_guide/indexing.html#returning-a-view-versus-a-copy\n",
      "  df['party_name'] = '|'.join(df['party_name'].tolist()).translate(transtab).split('|')\n",
      "<ipython-input-94-65ba2fd93e6e>:51: SettingWithCopyWarning: \n",
      "A value is trying to be set on a copy of a slice from a DataFrame.\n",
      "Try using .loc[row_indexer,col_indexer] = value instead\n",
      "\n",
      "See the caveats in the documentation: https://pandas.pydata.org/pandas-docs/stable/user_guide/indexing.html#returning-a-view-versus-a-copy\n",
      "  self.data['party_name'] = self.data['party_name'].str.lower()\n",
      "<ipython-input-94-65ba2fd93e6e>:55: SettingWithCopyWarning: \n",
      "A value is trying to be set on a copy of a slice from a DataFrame.\n",
      "Try using .loc[row_indexer,col_indexer] = value instead\n",
      "\n",
      "See the caveats in the documentation: https://pandas.pydata.org/pandas-docs/stable/user_guide/indexing.html#returning-a-view-versus-a-copy\n",
      "  self.data['party_name'] = self.data['party_name'].apply(lambda x: self.remove_stopwords(x))\n",
      "<ipython-input-94-65ba2fd93e6e>:62: SettingWithCopyWarning: \n",
      "A value is trying to be set on a copy of a slice from a DataFrame.\n",
      "Try using .loc[row_indexer,col_indexer] = value instead\n",
      "\n",
      "See the caveats in the documentation: https://pandas.pydata.org/pandas-docs/stable/user_guide/indexing.html#returning-a-view-versus-a-copy\n",
      "  self.data['party_count'] = self.data.groupby(['party_name'])['party_count'].transform('sum')\n",
      "<ipython-input-94-65ba2fd93e6e>:63: SettingWithCopyWarning: \n",
      "A value is trying to be set on a copy of a slice from a DataFrame\n",
      "\n",
      "See the caveats in the documentation: https://pandas.pydata.org/pandas-docs/stable/user_guide/indexing.html#returning-a-view-versus-a-copy\n",
      "  self.data.drop_duplicates(subset=['party_name'], inplace=True)\n",
      "<ipython-input-94-65ba2fd93e6e>:84: SettingWithCopyWarning: \n",
      "A value is trying to be set on a copy of a slice from a DataFrame.\n",
      "Try using .loc[row_indexer,col_indexer] = value instead\n",
      "\n",
      "See the caveats in the documentation: https://pandas.pydata.org/pandas-docs/stable/user_guide/indexing.html#returning-a-view-versus-a-copy\n",
      "  self.data['position'] = position\n"
     ]
    },
    {
     "name": "stdout",
     "output_type": "stream",
     "text": [
      "second interval:  0.377683162689209\n",
      "for loop starting\n",
      "finished thousand rows:  63.79662275314331\n",
      "finished thousand rows:  51.64994192123413\n",
      "finished main function:  177.71436595916748\n",
      "number of matches:  757\n"
     ]
    }
   ],
   "source": [
    "'''\n",
    "Test B\n",
    "Parameters:\n",
    "filename = 'Downloads/2020-11-01_tn_shelby_party_counts.csv'\n",
    "size = 10000\n",
    "abbreviations = None\n",
    "stopwords = stopwords\n",
    "algorithm = 'levenshtein'\n",
    "remove_numbers = True\n",
    "'''\n",
    "\n",
    "test_b = RemoveRepetitiveNames(filename='Downloads/2020-11-01_tn_shelby_party_counts.csv', abbreviations=None, stopwords=stopwords, size=10000, algorithm='levenshtein', remove_numbers=True)"
   ]
  },
  {
   "cell_type": "code",
   "execution_count": 99,
   "metadata": {},
   "outputs": [
    {
     "name": "stdout",
     "output_type": "stream",
     "text": [
      "(2179, 7)\n",
      "7064\n"
     ]
    }
   ],
   "source": [
    "print(test_b.output_df.shape)\n",
    "print(test_b.dropped_duplicates_count)\n",
    "\n",
    "test_b.output_df.to_csv('Downloads/LSC Work/Fuzzy Matching Project/test_112320/test_b_results.csv')"
   ]
  },
  {
   "cell_type": "code",
   "execution_count": 100,
   "metadata": {},
   "outputs": [
    {
     "name": "stdout",
     "output_type": "stream",
     "text": [
      "timer started\n",
      "first interval:  0.0919649600982666\n"
     ]
    },
    {
     "name": "stderr",
     "output_type": "stream",
     "text": [
      "<ipython-input-94-65ba2fd93e6e>:173: SettingWithCopyWarning: \n",
      "A value is trying to be set on a copy of a slice from a DataFrame.\n",
      "Try using .loc[row_indexer,col_indexer] = value instead\n",
      "\n",
      "See the caveats in the documentation: https://pandas.pydata.org/pandas-docs/stable/user_guide/indexing.html#returning-a-view-versus-a-copy\n",
      "  df['party_name'] = '|'.join(df['party_name'].tolist()).translate(transtab).split('|')\n",
      "<ipython-input-94-65ba2fd93e6e>:51: SettingWithCopyWarning: \n",
      "A value is trying to be set on a copy of a slice from a DataFrame.\n",
      "Try using .loc[row_indexer,col_indexer] = value instead\n",
      "\n",
      "See the caveats in the documentation: https://pandas.pydata.org/pandas-docs/stable/user_guide/indexing.html#returning-a-view-versus-a-copy\n",
      "  self.data['party_name'] = self.data['party_name'].str.lower()\n",
      "<ipython-input-94-65ba2fd93e6e>:62: SettingWithCopyWarning: \n",
      "A value is trying to be set on a copy of a slice from a DataFrame.\n",
      "Try using .loc[row_indexer,col_indexer] = value instead\n",
      "\n",
      "See the caveats in the documentation: https://pandas.pydata.org/pandas-docs/stable/user_guide/indexing.html#returning-a-view-versus-a-copy\n",
      "  self.data['party_count'] = self.data.groupby(['party_name'])['party_count'].transform('sum')\n",
      "<ipython-input-94-65ba2fd93e6e>:63: SettingWithCopyWarning: \n",
      "A value is trying to be set on a copy of a slice from a DataFrame\n",
      "\n",
      "See the caveats in the documentation: https://pandas.pydata.org/pandas-docs/stable/user_guide/indexing.html#returning-a-view-versus-a-copy\n",
      "  self.data.drop_duplicates(subset=['party_name'], inplace=True)\n",
      "<ipython-input-94-65ba2fd93e6e>:84: SettingWithCopyWarning: \n",
      "A value is trying to be set on a copy of a slice from a DataFrame.\n",
      "Try using .loc[row_indexer,col_indexer] = value instead\n",
      "\n",
      "See the caveats in the documentation: https://pandas.pydata.org/pandas-docs/stable/user_guide/indexing.html#returning-a-view-versus-a-copy\n",
      "  self.data['position'] = position\n"
     ]
    },
    {
     "name": "stdout",
     "output_type": "stream",
     "text": [
      "second interval:  0.40111517906188965\n",
      "for loop starting\n",
      "finished thousand rows:  79.49935984611511\n",
      "finished thousand rows:  70.70232605934143\n",
      "finished thousand rows:  61.14296197891235\n",
      "finished main function:  214.62593793869019\n",
      "number of matches:  864\n"
     ]
    }
   ],
   "source": [
    "'''\n",
    "Test C\n",
    "Parameters:\n",
    "filename = 'Downloads/2020-11-01_tn_shelby_party_counts.csv'\n",
    "size = 10000\n",
    "abbreviations = None\n",
    "stopwords = None\n",
    "algorithm = 'levenshtein'\n",
    "remove_numbers = True\n",
    "'''\n",
    "\n",
    "test_c = RemoveRepetitiveNames(filename='Downloads/2020-11-01_tn_shelby_party_counts.csv', abbreviations=None, stopwords=None, size=10000, algorithm='levenshtein', remove_numbers=True)"
   ]
  },
  {
   "cell_type": "code",
   "execution_count": 101,
   "metadata": {},
   "outputs": [
    {
     "name": "stdout",
     "output_type": "stream",
     "text": [
      "(2183, 7)\n",
      "6953\n"
     ]
    }
   ],
   "source": [
    "print(test_c.output_df.shape)\n",
    "print(test_c.dropped_duplicates_count)\n",
    "\n",
    "test_c.output_df.to_csv('Downloads/LSC Work/Fuzzy Matching Project/test_112320/test_c_results.csv')"
   ]
  },
  {
   "cell_type": "code",
   "execution_count": 102,
   "metadata": {},
   "outputs": [
    {
     "name": "stdout",
     "output_type": "stream",
     "text": [
      "timer started\n",
      "first interval:  0.1030879020690918\n"
     ]
    },
    {
     "name": "stderr",
     "output_type": "stream",
     "text": [
      "<ipython-input-94-65ba2fd93e6e>:173: SettingWithCopyWarning: \n",
      "A value is trying to be set on a copy of a slice from a DataFrame.\n",
      "Try using .loc[row_indexer,col_indexer] = value instead\n",
      "\n",
      "See the caveats in the documentation: https://pandas.pydata.org/pandas-docs/stable/user_guide/indexing.html#returning-a-view-versus-a-copy\n",
      "  df['party_name'] = '|'.join(df['party_name'].tolist()).translate(transtab).split('|')\n",
      "<ipython-input-94-65ba2fd93e6e>:51: SettingWithCopyWarning: \n",
      "A value is trying to be set on a copy of a slice from a DataFrame.\n",
      "Try using .loc[row_indexer,col_indexer] = value instead\n",
      "\n",
      "See the caveats in the documentation: https://pandas.pydata.org/pandas-docs/stable/user_guide/indexing.html#returning-a-view-versus-a-copy\n",
      "  self.data['party_name'] = self.data['party_name'].str.lower()\n",
      "<ipython-input-94-65ba2fd93e6e>:62: SettingWithCopyWarning: \n",
      "A value is trying to be set on a copy of a slice from a DataFrame.\n",
      "Try using .loc[row_indexer,col_indexer] = value instead\n",
      "\n",
      "See the caveats in the documentation: https://pandas.pydata.org/pandas-docs/stable/user_guide/indexing.html#returning-a-view-versus-a-copy\n",
      "  self.data['party_count'] = self.data.groupby(['party_name'])['party_count'].transform('sum')\n",
      "<ipython-input-94-65ba2fd93e6e>:63: SettingWithCopyWarning: \n",
      "A value is trying to be set on a copy of a slice from a DataFrame\n",
      "\n",
      "See the caveats in the documentation: https://pandas.pydata.org/pandas-docs/stable/user_guide/indexing.html#returning-a-view-versus-a-copy\n",
      "  self.data.drop_duplicates(subset=['party_name'], inplace=True)\n",
      "<ipython-input-94-65ba2fd93e6e>:84: SettingWithCopyWarning: \n",
      "A value is trying to be set on a copy of a slice from a DataFrame.\n",
      "Try using .loc[row_indexer,col_indexer] = value instead\n",
      "\n",
      "See the caveats in the documentation: https://pandas.pydata.org/pandas-docs/stable/user_guide/indexing.html#returning-a-view-versus-a-copy\n",
      "  self.data['position'] = position\n"
     ]
    },
    {
     "name": "stdout",
     "output_type": "stream",
     "text": [
      "second interval:  0.3702511787414551\n",
      "for loop starting\n",
      "finished thousand rows:  78.5349371433258\n",
      "finished thousand rows:  58.73050379753113\n",
      "finished thousand rows:  60.641079902648926\n",
      "finished main function:  203.77172994613647\n",
      "number of matches:  887\n"
     ]
    }
   ],
   "source": [
    "'''\n",
    "Test D\n",
    "Parameters:\n",
    "filename = 'Downloads/2020-11-01_tn_shelby_party_counts.csv'\n",
    "size = 10000\n",
    "abbreviations = None\n",
    "stopwords = None\n",
    "algorithm = 'levenshtein'\n",
    "remove_numbers = False\n",
    "'''\n",
    "\n",
    "test_d = RemoveRepetitiveNames(filename='Downloads/2020-11-01_tn_shelby_party_counts.csv', abbreviations=None, stopwords=None, size=10000, algorithm='levenshtein', remove_numbers=False)"
   ]
  },
  {
   "cell_type": "code",
   "execution_count": 103,
   "metadata": {},
   "outputs": [
    {
     "name": "stdout",
     "output_type": "stream",
     "text": [
      "(2193, 7)\n",
      "6920\n"
     ]
    }
   ],
   "source": [
    "print(test_d.output_df.shape)\n",
    "print(test_d.dropped_duplicates_count)\n",
    "\n",
    "test_d.output_df.to_csv('Downloads/LSC Work/Fuzzy Matching Project/test_112320/test_d_results.csv')"
   ]
  },
  {
   "cell_type": "code",
   "execution_count": 104,
   "metadata": {},
   "outputs": [
    {
     "name": "stdout",
     "output_type": "stream",
     "text": [
      "timer started\n",
      "first interval:  0.10372495651245117\n"
     ]
    },
    {
     "name": "stderr",
     "output_type": "stream",
     "text": [
      "<ipython-input-94-65ba2fd93e6e>:173: SettingWithCopyWarning: \n",
      "A value is trying to be set on a copy of a slice from a DataFrame.\n",
      "Try using .loc[row_indexer,col_indexer] = value instead\n",
      "\n",
      "See the caveats in the documentation: https://pandas.pydata.org/pandas-docs/stable/user_guide/indexing.html#returning-a-view-versus-a-copy\n",
      "  df['party_name'] = '|'.join(df['party_name'].tolist()).translate(transtab).split('|')\n",
      "<ipython-input-94-65ba2fd93e6e>:51: SettingWithCopyWarning: \n",
      "A value is trying to be set on a copy of a slice from a DataFrame.\n",
      "Try using .loc[row_indexer,col_indexer] = value instead\n",
      "\n",
      "See the caveats in the documentation: https://pandas.pydata.org/pandas-docs/stable/user_guide/indexing.html#returning-a-view-versus-a-copy\n",
      "  self.data['party_name'] = self.data['party_name'].str.lower()\n",
      "<ipython-input-94-65ba2fd93e6e>:55: SettingWithCopyWarning: \n",
      "A value is trying to be set on a copy of a slice from a DataFrame.\n",
      "Try using .loc[row_indexer,col_indexer] = value instead\n",
      "\n",
      "See the caveats in the documentation: https://pandas.pydata.org/pandas-docs/stable/user_guide/indexing.html#returning-a-view-versus-a-copy\n",
      "  self.data['party_name'] = self.data['party_name'].apply(lambda x: self.remove_stopwords(x))\n",
      "<ipython-input-94-65ba2fd93e6e>:59: SettingWithCopyWarning: \n",
      "A value is trying to be set on a copy of a slice from a DataFrame.\n",
      "Try using .loc[row_indexer,col_indexer] = value instead\n",
      "\n",
      "See the caveats in the documentation: https://pandas.pydata.org/pandas-docs/stable/user_guide/indexing.html#returning-a-view-versus-a-copy\n",
      "  self.data['party_name'] = self.data['party_name'].apply(lambda x: self.abbreviate(x))\n",
      "<ipython-input-94-65ba2fd93e6e>:62: SettingWithCopyWarning: \n",
      "A value is trying to be set on a copy of a slice from a DataFrame.\n",
      "Try using .loc[row_indexer,col_indexer] = value instead\n",
      "\n",
      "See the caveats in the documentation: https://pandas.pydata.org/pandas-docs/stable/user_guide/indexing.html#returning-a-view-versus-a-copy\n",
      "  self.data['party_count'] = self.data.groupby(['party_name'])['party_count'].transform('sum')\n",
      "<ipython-input-94-65ba2fd93e6e>:63: SettingWithCopyWarning: \n",
      "A value is trying to be set on a copy of a slice from a DataFrame\n",
      "\n",
      "See the caveats in the documentation: https://pandas.pydata.org/pandas-docs/stable/user_guide/indexing.html#returning-a-view-versus-a-copy\n",
      "  self.data.drop_duplicates(subset=['party_name'], inplace=True)\n",
      "<ipython-input-94-65ba2fd93e6e>:84: SettingWithCopyWarning: \n",
      "A value is trying to be set on a copy of a slice from a DataFrame.\n",
      "Try using .loc[row_indexer,col_indexer] = value instead\n",
      "\n",
      "See the caveats in the documentation: https://pandas.pydata.org/pandas-docs/stable/user_guide/indexing.html#returning-a-view-versus-a-copy\n",
      "  self.data['position'] = position\n"
     ]
    },
    {
     "name": "stdout",
     "output_type": "stream",
     "text": [
      "second interval:  0.33502793312072754\n",
      "for loop starting\n",
      "finished thousand rows:  110.94114112854004\n",
      "finished thousand rows:  76.88037610054016\n",
      "finished main function:  250.2618601322174\n",
      "number of matches:  629\n"
     ]
    }
   ],
   "source": [
    "'''\n",
    "Test E\n",
    "Parameters:\n",
    "filename = 'Downloads/2020-11-01_tn_shelby_party_counts.csv'\n",
    "size = 10000\n",
    "abbreviations = abbreviations\n",
    "stopwords = stopwords\n",
    "algorithm = 'seq'\n",
    "remove_numbers = True\n",
    "'''\n",
    "\n",
    "test_e = RemoveRepetitiveNames(filename='Downloads/2020-11-01_tn_shelby_party_counts.csv', abbreviations=abbreviations, stopwords=stopwords, size=10000, algorithm='seq', remove_numbers=True)"
   ]
  },
  {
   "cell_type": "code",
   "execution_count": 105,
   "metadata": {},
   "outputs": [
    {
     "name": "stdout",
     "output_type": "stream",
     "text": [
      "(2283, 7)\n",
      "7088\n"
     ]
    }
   ],
   "source": [
    "print(test_e.output_df.shape)\n",
    "print(test_e.dropped_duplicates_count)\n",
    "\n",
    "test_e.output_df.to_csv('Downloads/LSC Work/Fuzzy Matching Project/test_112320/test_e_results.csv')"
   ]
  }
 ],
 "metadata": {
  "kernelspec": {
   "display_name": "Python 3",
   "language": "python",
   "name": "python3"
  },
  "language_info": {
   "codemirror_mode": {
    "name": "ipython",
    "version": 3
   },
   "file_extension": ".py",
   "mimetype": "text/x-python",
   "name": "python",
   "nbconvert_exporter": "python",
   "pygments_lexer": "ipython3",
   "version": "3.8.3"
  }
 },
 "nbformat": 4,
 "nbformat_minor": 4
}
